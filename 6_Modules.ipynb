{
 "cells": [
  {
   "cell_type": "markdown",
   "id": "9e86a2a3-ac21-49f2-8a03-deb954ecab4d",
   "metadata": {},
   "source": [
    "# Rust Modules\n",
    "- Modules are defined by mod keyword\n",
    "- By default everything inside a module `a` will be private to `a`, its sibling and its parent, the entities inside `a` can only be accessed by the other entities that are inside `a`.\n",
    "- Modules can contain other modules inside them.\n",
    "- Modules can also contain any other valid rust code inside them.\n",
    "- Every module has a module called `crate` as its top.\n",
    "- Every module can be accesed by either its absolute path tha starts with crate or relative path."
   ]
  },
  {
   "cell_type": "markdown",
   "id": "9d901760-5cc7-4d1b-99e3-9ebcef76d429",
   "metadata": {},
   "source": [
    "## `pub` keyword\n",
    "Any entity can be made public to its parent and parents sibling elements by adding `pub` keyword to it."
   ]
  },
  {
   "cell_type": "code",
   "execution_count": 4,
   "id": "2ada8107-cfe7-4c97-98ac-e9f61b04a40d",
   "metadata": {},
   "outputs": [],
   "source": [
    "mod front_of_house {\n",
    "    pub mod hosting {\n",
    "        pub fn add_to_waitlist(){\n",
    "            println!(\"added to waitlist\");\n",
    "        }\n",
    "        pub fn serve_order(){\n",
    "            println!(\"order served\");\n",
    "        }\n",
    "    }\n",
    "}"
   ]
  },
  {
   "cell_type": "code",
   "execution_count": 3,
   "id": "7a4730b4-1ec5-4f41-a74d-450f5cbb1c0b",
   "metadata": {},
   "outputs": [
    {
     "name": "stdout",
     "output_type": "stream",
     "text": [
      "added to waitlist\n",
      "added to waitlist\n"
     ]
    }
   ],
   "source": [
    "// accessing with absolute path\n",
    "crate::front_of_house::hosting::add_to_waitlist();\n",
    "//accessing with relative path\n",
    "front_of_house::hosting::add_to_waitlist();"
   ]
  },
  {
   "cell_type": "markdown",
   "id": "b64f7093-6032-4df3-bda9-f650c8f91cdb",
   "metadata": {},
   "source": [
    "## `super` keyword\n",
    "We can access entities that are relatively higher in the same module by using super keyword."
   ]
  },
  {
   "cell_type": "code",
   "execution_count": 5,
   "id": "3e7c933d-d5bf-42d1-8b7c-2a32edb428b0",
   "metadata": {},
   "outputs": [
    {
     "name": "stdout",
     "output_type": "stream",
     "text": [
      "cooking order\n",
      "order served\n"
     ]
    }
   ],
   "source": [
    "// using super keyword\n",
    "mod back_of_house {\n",
    "     pub fn fix_incorrect_order(){\n",
    "         cook_order();\n",
    "         super::front_of_house::hosting::serve_order();\n",
    "     }\n",
    "     fn cook_order(){\n",
    "         println!(\"cooking order\");\n",
    "     }\n",
    "}\n",
    "\n",
    "back_of_house::fix_incorrect_order();"
   ]
  },
  {
   "cell_type": "markdown",
   "id": "a2ab351f-6668-4eb3-ba1b-abae5c46ee0b",
   "metadata": {},
   "source": [
    "## `use` keyword"
   ]
  },
  {
   "cell_type": "code",
   "execution_count": 25,
   "id": "3fe240db-986c-4a5c-82a9-d4e5c09a2b9d",
   "metadata": {},
   "outputs": [
    {
     "name": "stdout",
     "output_type": "stream",
     "text": [
      "order served\n",
      "order served\n",
      "order served\n",
      "added to waitlist\n"
     ]
    }
   ],
   "source": [
    "// bring hosting module into the scope\n",
    "use crate::front_of_house::hosting::{self, serve_order, add_to_waitlist};\n",
    "//use self::front_of_house::hosting;\n",
    "//use self::front_of_house::serve_order;\n",
    "\n",
    "front_of_house::hosting::serve_order();\n",
    "hosting::serve_order();\n",
    "serve_order();\n",
    "add_to_waitlist();"
   ]
  },
  {
   "cell_type": "markdown",
   "id": "22dd9227-4e11-4247-9fa2-1a6908648884",
   "metadata": {},
   "source": [
    "### `pub` keyword will be used with `use` keyword when we want to export our module (make our module accessible from other projects)."
   ]
  },
  {
   "cell_type": "code",
   "execution_count": 28,
   "id": "0171f0e0-a068-491a-a03a-4d318b05f77b",
   "metadata": {},
   "outputs": [],
   "source": [
    "pub use crate::front_of_house::hosting;"
   ]
  },
  {
   "cell_type": "markdown",
   "id": "25e1cbb5-1d13-41c9-93f6-5c1615da4429",
   "metadata": {},
   "source": [
    "## `as` keyword can be use to import any module or any other entity from a module into the scope with a diffrent name"
   ]
  },
  {
   "cell_type": "code",
   "execution_count": 27,
   "id": "4d9c867e-339c-41d2-af83-fc249d488d40",
   "metadata": {},
   "outputs": [],
   "source": [
    "use std::io::Result as IO_Result;"
   ]
  },
  {
   "cell_type": "markdown",
   "id": "66dde069-fffa-40b9-ab83-6055b61f7756",
   "metadata": {},
   "source": [
    "## The `glob` or `*` operator\n",
    "it is used to import all the entities into the scope that are within the given module."
   ]
  },
  {
   "cell_type": "code",
   "execution_count": 29,
   "id": "7f046704-5961-457c-99b7-304f64748b63",
   "metadata": {},
   "outputs": [],
   "source": [
    "use std::io::*;"
   ]
  },
  {
   "cell_type": "markdown",
   "id": "215978eb-393d-415f-951a-55be5baa1ea6",
   "metadata": {},
   "source": [
    "## Modules in Seperate Files\n",
    "\n",
    "- In the main lib.rs file, declare the front_of_house module but just declare.\n",
    "- The inner code will be in a file with same name in the same directory.\n",
    "- If you want to break it down further, extract the code of hosting module and put it in a dir that is named after the main module and put it in the file named hosting.\n",
    "- See the below example for clarity:\n",
    "\n",
    "./front_of_house/hosting.rs\n",
    "___\n",
    "```\n",
    "pub fn serve_drink(){\n",
    "    println!(\"drinks served\");\n",
    "}\n",
    "```\n",
    "\n",
    "\n",
    "./front_of_house.rs\n",
    "___\n",
    "```\n",
    "pub mod hosting;\n",
    "```\n",
    "./lib.rs\n",
    "___\n",
    "```\n",
    "mod front_of_house;\n",
    "use front_of_house::hosting;\n",
    "hosting::serve_drink();\n",
    "``` "
   ]
  }
 ],
 "metadata": {
  "kernelspec": {
   "display_name": "Rust",
   "language": "rust",
   "name": "rust"
  },
  "language_info": {
   "codemirror_mode": "rust",
   "file_extension": ".rs",
   "mimetype": "text/rust",
   "name": "Rust",
   "pygment_lexer": "rust",
   "version": ""
  }
 },
 "nbformat": 4,
 "nbformat_minor": 5
}
