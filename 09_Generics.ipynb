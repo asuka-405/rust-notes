{
 "cells": [
  {
   "cell_type": "markdown",
   "metadata": {},
   "source": [
    "# Generics\n",
    "In rust, Traits, Generics and Traits all 3 are used to reduce code duplication.\n",
    "\n",
    "> Even the `Option` and `Result` enums use generics\n",
    "\n",
    "```rs\n",
    "        enum Option< T > {\n",
    "        Some(T),\n",
    "        None,\n",
    "    }\n",
    "\n",
    "    enum Result< T, E > {\n",
    "        Ok(T),\n",
    "        Err(E),\n",
    "    }\n",
    "```\n",
    "\n",
    "In the below function, we are using generics to make the get_largest function be usable for multiple data types.\n",
    "- We're using Traits at `T: PartialOrd + Copy`. For now just understand that PartialOrd trait tells our generic function to accept only a type that can be ordered and Copy tells that the type should be able to copied, like integers and characters."
   ]
  },
  {
   "cell_type": "code",
   "execution_count": 11,
   "metadata": {},
   "outputs": [],
   "source": [
    "fn get_largest<T: PartialOrd + Copy >(v: Vec<T>) -> T {\n",
    "    let mut largest = v[0];\n",
    "    for i in v {\n",
    "        if i > largest {\n",
    "            largest = i;\n",
    "        }\n",
    "    }\n",
    "    largest\n",
    "}"
   ]
  },
  {
   "cell_type": "code",
   "execution_count": 3,
   "metadata": {},
   "outputs": [
    {
     "name": "stdout",
     "output_type": "stream",
     "text": [
      "largest: 5\n",
      "largest: e\n"
     ]
    }
   ],
   "source": [
    "let v: Vec<i32> = vec![1, 2, 3, 4, 5];\n",
    "let largest = get_largest(v);\n",
    "println!(\"largest: {}\", largest);\n",
    "\n",
    "let v: Vec<char> = vec!['a', 'b', 'c', 'd', 'e'];\n",
    "let largest = get_largest(v);\n",
    "println!(\"largest: {}\", largest);\n",
    "\n",
    "// note: Copy is required because we are assigning largest to v[0] which is a copy\n",
    "// note: PartialOrd is required because we are comparing i to largest\n",
    "// note: Shadowing is being used to create a new vector of a different type and,\n",
    "// to hold the result of get_largest"
   ]
  },
  {
   "cell_type": "code",
   "execution_count": 4,
   "metadata": {},
   "outputs": [
    {
     "name": "stdout",
     "output_type": "stream",
     "text": [
      "Point {\n",
      "    x: 1,\n"
     ]
    },
    {
     "name": "stdout",
     "output_type": "stream",
     "text": [
      "    y: 2.3,\n",
      "}\n"
     ]
    }
   ],
   "source": [
    "#[derive(Debug)]\n",
    "struct Point< T, U > {\n",
    "    x: T,\n",
    "    y: U,\n",
    "}\n",
    "\n",
    "let p = Point { x: 1, y: 2.3 };\n",
    "println!(\"{:#?}\", p);\n"
   ]
  },
  {
   "cell_type": "code",
   "execution_count": 6,
   "metadata": {},
   "outputs": [],
   "source": [
    "impl< T, U > Point< T, U > {\n",
    "    fn x(&self) -> &T {\n",
    "        &self.x\n",
    "    }\n",
    "    fn y(&self) -> &U {\n",
    "        &self.y\n",
    "    }\n",
    "}"
   ]
  },
  {
   "cell_type": "code",
   "execution_count": 7,
   "metadata": {},
   "outputs": [
    {
     "name": "stdout",
     "output_type": "stream",
     "text": [
      "Point {\n",
      "    x: 1,\n",
      "    y: 2.3\n",
      "}\n"
     ]
    }
   ],
   "source": [
    "println!(\"Point {{\\n    x: {},\\n    y: {}\\n}}\", p.x(), p.y());"
   ]
  },
  {
   "cell_type": "code",
   "execution_count": 8,
   "metadata": {},
   "outputs": [],
   "source": [
    "// this is a method that is only available to Points with f32 x and y\n",
    "impl Point< f32, f32 > {\n",
    "    fn distance_from_origin(&self) -> f32 {\n",
    "        (self.x.powi(2) + self.y.powi(2)).sqrt()\n",
    "    }\n",
    "}"
   ]
  },
  {
   "cell_type": "code",
   "execution_count": 10,
   "metadata": {},
   "outputs": [
    {
     "name": "stdout",
     "output_type": "stream",
     "text": [
      "distance from origin: 5\n"
     ]
    }
   ],
   "source": [
    "let p = Point { x: 3.0, y: 4.0 };\n",
    "println!(\"distance from origin: {}\", p.distance_from_origin());"
   ]
  },
  {
   "cell_type": "code",
   "execution_count": 14,
   "metadata": {},
   "outputs": [],
   "source": [
    "impl< T, U > Point< T, U > {\n",
    "    fn mixup< V, W >(self, other: Point< V, W>) -> Point< T, W > {\n",
    "        Point{\n",
    "            x: self.x,\n",
    "            y: other.y,\n",
    "        }\n",
    "    }\n",
    "}"
   ]
  },
  {
   "cell_type": "code",
   "execution_count": 15,
   "metadata": {},
   "outputs": [
    {
     "name": "stdout",
     "output_type": "stream",
     "text": [
      "Point {\n",
      "    x: 1,\n",
      "    y: 4\n",
      "}\n"
     ]
    }
   ],
   "source": [
    "let p1 = Point { x: 1, y: 2 };\n",
    "let p = p1.mixup(p);\n",
    "println!(\"Point {{\\n    x: {},\\n    y: {}\\n}}\", p.x, p.y);"
   ]
  }
 ],
 "metadata": {
  "kernelspec": {
   "display_name": "Rust",
   "language": "rust",
   "name": "rust"
  },
  "language_info": {
   "codemirror_mode": "rust",
   "file_extension": ".rs",
   "mimetype": "text/rust",
   "name": "rust",
   "pygment_lexer": "rust",
   "version": ""
  },
  "orig_nbformat": 4
 },
 "nbformat": 4,
 "nbformat_minor": 2
}
