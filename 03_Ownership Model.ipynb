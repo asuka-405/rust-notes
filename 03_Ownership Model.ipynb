{
 "cells": [
  {
   "cell_type": "markdown",
   "id": "2c46c0d2-4fed-466f-b3b9-1aac2800e518",
   "metadata": {},
   "source": [
    "# Rust Ownership\n",
    "- Each value in rust has a variable that's called it's owner.\n",
    "- There can be only one owner of a value at a time.\n",
    "- When the owner goes out of scope the value will be dropped."
   ]
  },
  {
   "cell_type": "code",
   "execution_count": 6,
   "id": "39834bc6-b199-42ef-8d20-92481aae4d5c",
   "metadata": {},
   "outputs": [
    {
     "data": {
      "text/plain": [
       "()"
      ]
     },
     "execution_count": 6,
     "metadata": {},
     "output_type": "execute_result"
    }
   ],
   "source": [
    "{\n",
    "    // var is not valid here, since it is not declared yet;\n",
    "    let s: &str = \"rust\"; // this is a string literal, is immutable, is fixed in size and is stored in the strack frame;\n",
    "    let s: String = String::from(\"rust\"); // this is a dynamic string and can be mutated. It is stored in the heap.\n",
    "    // here you can use s;\n",
    "}   // this scope has ended, so you cannot access it here;"
   ]
  },
  {
   "cell_type": "code",
   "execution_count": 7,
   "id": "469fedf6-2695-4f27-a3c3-a30302a3c6c9",
   "metadata": {},
   "outputs": [],
   "source": [
    "let x: i32 = 69;\n",
    "let y = x; // the value of x is being copied into the variable y;"
   ]
  },
  {
   "cell_type": "markdown",
   "id": "1b923f52-efc1-4bf4-8615-aa4fc840b7f4",
   "metadata": {},
   "source": [
    "## Move Semantics\n",
    "- Move semantics or ownership transfer is the process by which the OG owner of the variable gets dropped but its value is transfered to the new variable.\n",
    "- It applies to all the heap allocated data types.\n",
    "- Date types that are not heap allocated are copied instead of ownership transfer.\n",
    "- To copy the instead of moving it to the new variable, you can call clone method on it. The clone method is implemented on all the types that support move semantics (i.e implement Drop function)."
   ]
  },
  {
   "cell_type": "code",
   "execution_count": 8,
   "id": "3d43f585-542d-466a-ae5a-10dca222ac2c",
   "metadata": {},
   "outputs": [
    {
     "name": "stdout",
     "output_type": "stream",
     "text": [
      "rust\n"
     ]
    }
   ],
   "source": [
    "// a string's ownership will be passed to this function;\n",
    "fn take_ownership(some_string: String){\n",
    "    println!(\"{}\", some_string);\n",
    "}\n",
    "// create a new string;\n",
    "let s: String = String::from(\"rust\");\n",
    "// string 's' is accessible here;\n",
    "// pass the ownership of the string to the take_ownership function;\n",
    "take_ownership(s);\n",
    "// since the string was passed to the above function and it never returned it's ownership, the string 's' is now out of scope;\n",
    "// the string 's' cannot be accessed now since it is dropped;"
   ]
  },
  {
   "cell_type": "markdown",
   "id": "754438a9-40bb-44fe-8937-6e3cb71cb6d0",
   "metadata": {
    "jp-MarkdownHeadingCollapsed": true
   },
   "source": [
    "### Referencing\n",
    "- Instead of passing ownership to a function and then giving it back, when you just want to use the value and not manipulate it, is repetetive task.\n",
    "- We can instead use referencing to get a read access to the variable.\n",
    "- We can also edit the value of variable while just passing a ref to it:\n",
    "    - make s1 a mutable variable: let --> let mut.\n",
    "    - pass a mutable ref to the function: &s1 --> &mut s1.\n",
    "    - let the function accept mutable ref: some_str: &String --> &mut String.\n",
    "- You cannot have more than 1 mutable ref to the same piece of data within same scope.\n",
    "- This helps in preventing data races.\n",
    "- There is no limit to having any amount of immutable refs.\n",
    "- You cannot have a mutable ref if a mutable ref already exists."
   ]
  },
  {
   "cell_type": "code",
   "execution_count": 17,
   "id": "f76620e7-63a7-410c-bdb7-16675bcad28d",
   "metadata": {},
   "outputs": [
    {
     "name": "stdout",
     "output_type": "stream",
     "text": [
      "The length of 'rustlings, hello!' is '17'\n"
     ]
    }
   ],
   "source": [
    "// taking ref to the string that's passed as a param in fn calc_len;\n",
    "fn calc_len(s: &mut String) -> usize{\n",
    "    s.push_str(\", hello!\");\n",
    "    s.len()\n",
    "}\n",
    "let mut s1: String = String::from(\"rustlings\");\n",
    "// passing ref to string 's' in the fucntion;\n",
    "let len: usize = calc_len(&mut s1);\n",
    "// the variable 's' is still in scope;\n",
    "println!(\"The length of '{}' is '{}'\", s1, len);"
   ]
  },
  {
   "cell_type": "code",
   "execution_count": 22,
   "id": "5392a7a8-8700-4120-8068-5b3c1f6f9492",
   "metadata": {},
   "outputs": [
    {
     "name": "stdout",
     "output_type": "stream",
     "text": [
      "rustlings\n",
      "rustlings\n"
     ]
    },
    {
     "data": {
      "text/plain": [
       "()"
      ]
     },
     "execution_count": 22,
     "metadata": {},
     "output_type": "execute_result"
    }
   ],
   "source": [
    "{\n",
    "    let mut s: String = String::from(\"rustlings\");\n",
    "    let r1: &String = &s;\n",
    "    let r2: &String = &s;\n",
    "    // we cannot have mutable ref to 's' here because r1 and r2, the immutable refs to the same variabele are within scope rn;\n",
    "    println!(\"{}\\n{}\", r1, r2);\n",
    "    // we can have this mutable ref here because r1 and r2, i.e the immutable refs to the string 's' are now out of scope;\n",
    "    let r3: &mut String = &mut s;\n",
    "}"
   ]
  },
  {
   "cell_type": "markdown",
   "id": "8737e6bc-5fec-48fa-90eb-75f3e15237ac",
   "metadata": {},
   "source": [
    "### Dangling Reference\n",
    "- If you have a pointer but the pointer does not point to anything it is called dangling ref.\n",
    "- Rust does not let it happen. As we tried to do it in following code it gives an error."
   ]
  },
  {
   "cell_type": "code",
   "execution_count": 23,
   "id": "01dbb6ff-4118-4e54-bb99-191b0ad2b4f3",
   "metadata": {},
   "outputs": [
    {
     "ename": "Error",
     "evalue": "missing lifetime specifier",
     "output_type": "error",
     "traceback": [
      "\u001b[31m[E0106] Error:\u001b[0m missing lifetime specifier",
      "   \u001b[38;5;246m╭\u001b[0m\u001b[38;5;246m─\u001b[0m\u001b[38;5;246m[\u001b[0mcommand_23:1:1\u001b[38;5;246m]\u001b[0m",
      "   \u001b[38;5;246m│\u001b[0m",
      " \u001b[38;5;246m1 │\u001b[0m \u001b[38;5;249mf\u001b[0m\u001b[38;5;249mn\u001b[0m\u001b[38;5;249m \u001b[0m\u001b[38;5;249md\u001b[0m\u001b[38;5;249ma\u001b[0m\u001b[38;5;249mn\u001b[0m\u001b[38;5;249mg\u001b[0m\u001b[38;5;249ml\u001b[0m\u001b[38;5;249me\u001b[0m\u001b[38;5;249m(\u001b[0m\u001b[38;5;249m)\u001b[0m\u001b[38;5;249m \u001b[0m\u001b[38;5;249m-\u001b[0m\u001b[38;5;249m>\u001b[0m\u001b[38;5;249m \u001b[0m\u001b[38;5;54m&\u001b[0m\u001b[38;5;249mS\u001b[0m\u001b[38;5;249mt\u001b[0m\u001b[38;5;249mr\u001b[0m\u001b[38;5;249mi\u001b[0m\u001b[38;5;249mn\u001b[0m\u001b[38;5;249mg\u001b[0m\u001b[38;5;249m \u001b[0m\u001b[38;5;249m{\u001b[0m",
      " \u001b[38;5;240m  │\u001b[0m                \u001b[38;5;54m┬\u001b[0m\u001b[38;5;100m│\u001b[0m ",
      " \u001b[38;5;240m  │\u001b[0m                \u001b[38;5;54m╰\u001b[0m\u001b[38;5;54m─\u001b[0m\u001b[38;5;54m─\u001b[0m expected named lifetime parameter",
      " \u001b[38;5;240m  │\u001b[0m                 \u001b[38;5;100m│\u001b[0m ",
      " \u001b[38;5;240m  │\u001b[0m                 \u001b[38;5;100m╰\u001b[0m\u001b[38;5;100m─\u001b[0m help: consider using the `'static` lifetime: `'static `",
      "\u001b[38;5;246m───╯\u001b[0m"
     ]
    }
   ],
   "source": [
    "fn dangle() -> &String {\n",
    "    let s: String = String::from(\"hello, rustlings!\");\n",
    "    &s\n",
    "}\n",
    "let ref_to_nothin: &String = dangle();"
   ]
  },
  {
   "cell_type": "markdown",
   "id": "cee71224-5716-4f4e-9888-f9f87d0c064e",
   "metadata": {},
   "source": [
    "## Slice\n",
    "- slice are available on diffrent types of collections.\n",
    "- ref to entire var --> &var_name[..]\n",
    "- ref to ith index --> &s[..(i+1)] (last index is exclusive)\n",
    "- ref from ith index to the end --> &s[i..] (first index is inclusive)\n",
    "- ref from ith index to mth index --> &s[i..(m+1)]\n",
    "- string ref gets automatically converted into string slice.\n",
    "- string literals are actually string slices."
   ]
  },
  {
   "cell_type": "code",
   "execution_count": 29,
   "id": "8c00eb4e-cafd-4771-a8ac-ef763051d107",
   "metadata": {},
   "outputs": [
    {
     "name": "stdout",
     "output_type": "stream",
     "text": [
      "hail\n"
     ]
    }
   ],
   "source": [
    "fn get_first_word(s: &str) -> &str {\n",
    "    let bytes: &[u8] = s.as_bytes();\n",
    "    for(i, &c) in bytes.iter().enumerate() {\n",
    "        if c == b' ' {\n",
    "            return &s[..i];\n",
    "        }\n",
    "    }\n",
    "    &s[..]\n",
    "}\n",
    "\n",
    "let s: String = String::from(\"hail , rustlings!\");\n",
    "println!(\"{}\", get_first_word(&s));"
   ]
  }
 ],
 "metadata": {
  "kernelspec": {
   "display_name": "Rust",
   "language": "rust",
   "name": "rust"
  },
  "language_info": {
   "codemirror_mode": "rust",
   "file_extension": ".rs",
   "mimetype": "text/rust",
   "name": "Rust",
   "pygment_lexer": "rust",
   "version": ""
  }
 },
 "nbformat": 4,
 "nbformat_minor": 5
}
