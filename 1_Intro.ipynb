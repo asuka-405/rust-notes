{
 "cells": [
  {
   "cell_type": "markdown",
   "id": "6a996aa2-03fa-4ea6-8a18-64002a76e31f",
   "metadata": {},
   "source": [
    "# The Very Basics\n",
    "A fundamental rust program"
   ]
  },
  {
   "cell_type": "code",
   "execution_count": 2,
   "id": "8f2e8a5e-4658-404c-a718-a0ab89c26745",
   "metadata": {},
   "outputs": [],
   "source": [
    "fn main(){\n",
    "    // any expression that has '!' after it is a macro;\n",
    "    println!(\"the rustlings!\");\n",
    "    // println! is a macro, i.e, a set of rust code,\n",
    "    // that gets executed on the value that's passed as a parameter\n",
    "}"
   ]
  },
  {
   "cell_type": "code",
   "execution_count": 3,
   "id": "7d3f107b-e9c3-4e32-b2df-87106ec978bc",
   "metadata": {},
   "outputs": [
    {
     "name": "stdout",
     "output_type": "stream",
     "text": [
      "the rustlings!\n"
     ]
    }
   ],
   "source": [
    "main();"
   ]
  },
  {
   "cell_type": "markdown",
   "id": "695389cd-8fea-460c-90a0-d441ad8bcc86",
   "metadata": {},
   "source": [
    "## A Guessing Game"
   ]
  },
  {
   "cell_type": "code",
   "execution_count": 4,
   "id": "75d83aac-75b1-4061-bf9b-2dee6762bea9",
   "metadata": {},
   "outputs": [
    {
     "ename": "Error",
     "evalue": "cargo metadata failed with output:\n    Updating crates.io index\nerror: no matching package found\nsearched package name: `unicode_segmentation`\nperhaps you meant:      unicode-segmentation\nlocation searched: registry `crates-io`\nrequired by package `ctx v1.0.0 (C:\\Users\\Suryansh\\AppData\\Local\\Temp\\.tmp6A7Bww)`\n",
     "output_type": "error",
     "traceback": [
      "cargo metadata failed with output:\n    Updating crates.io index\nerror: no matching package found\nsearched package name: `unicode_segmentation`\nperhaps you meant:      unicode-segmentation\nlocation searched: registry `crates-io`\nrequired by package `ctx v1.0.0 (C:\\Users\\Suryansh\\AppData\\Local\\Temp\\.tmp6A7Bww)`\n"
     ]
    }
   ],
   "source": [
    "// bring 'io' from the 'std' library into the scope;\n",
    "use std::io;\n",
    "// ordering is just an enum that is a result of 2 things being compared;\n",
    "use std::cmp::Ordering;\n",
    "// bring 'rand' and 'colored' crates into the scope\n",
    "extern crate rand;\n",
    "extern crate colored;\n",
    "// bring 'Rng' and all from the 'rand' and colored crates respectively into the scope\n",
    "use rand::Rng;\n",
    "use colored::*;"
   ]
  },
  {
   "cell_type": "code",
   "execution_count": 32,
   "id": "c0a336f2-e11f-4860-a7d5-ee9755223e05",
   "metadata": {},
   "outputs": [],
   "source": [
    "// i'm returning a string literal after the guessing game ends\n",
    "// where \"&'static\" represents that the returned string will be available for the entire lifetime of the program\n",
    "fn guesser() -> &'static str{\n",
    "    println!(\"Guess the number\");\n",
    "\n",
    "    // println!(\"Please input your guess! : \");\n",
    "\n",
    "    //  data type - String;\n",
    "    // :: syntax to access the associated properties;\n",
    "    // associated property is just the rusty way of saying\n",
    "    // that the property (function or variable) is static;\n",
    "    // 'new' function is used to create a new entity of the associated type;\n",
    "    // since rust has immutable variables by default,\n",
    "    // we have to specify explicitely using the keyword 'mut' that \n",
    "    // the given string is mutable;\n",
    "    let mut guess: String = String::new();\n",
    "\n",
    "    // \"5\" is a string literal\n",
    "    // we cannot assign a literal to String\n",
    "    guess = \"3\".to_string();\n",
    "\n",
    "\n",
    "    // when we want to convert a variable from one type to another,\n",
    "    // while preserving the same name,\n",
    "    // we use a process called shadowing;\n",
    "    // convert guess into a unsigned 32 bit integer;\n",
    "    // 'trim' will remove any trailing or leading spaces in the input string;\n",
    "    // 'parse' will convert guess into the type that is mentioned in the new declaration;\n",
    "    // expect will return 'ok' if success else rust will panick with the given string literal;\n",
    "    let guess: u32 = guess.trim().parse().expect(\"the passed value is not a number!\");\n",
    "    \n",
    "    // commented this out since cli args does not work in jupyter\n",
    "    //  io::stdin()\n",
    "    //    .read_line(&mut guess)\n",
    "    //    .expect(\"Failed to read your guess\");\n",
    "\n",
    "    // secret is a 32 bit integer depicted by the type 'i32';\n",
    "    // thread_rng provides a random number generator;\n",
    "    // gen_range actually generates the random number b/w the given range;\n",
    "    let secret: u32 = rand::thread_rng().gen_range(1..5);\n",
    "    \n",
    "    \n",
    "    println!(\"You guessed {}\", guess);\n",
    "    println!(\"Actual number {}\", secret);\n",
    "\n",
    "    \n",
    "    // cmp will compare the given 2 variables and return an Ordering enum;\n",
    "    // Ordering has 1 of 3 values : [Less, Equal, Greater],\n",
    "    // these values signify the result of the comparision operation;\n",
    "    // the match expression will match the provided value,\n",
    "    // in this case return value of cmp,\n",
    "    // with all possible values that its data type can have;\n",
    "    // in this case there are only 3 possible values which i've handled below;\n",
    "    match guess.cmp(&secret) {\n",
    "        Ordering::Less => println!(\"{}\",\"your guess too small\".red()),\n",
    "        Ordering::Equal => {\n",
    "            println!(\"{}\",\"you guess was exact\".green());\n",
    "            return \"you won\";\n",
    "        },\n",
    "        Ordering::Greater => println!(\"{}\",\"your guess was too big\".blue()),\n",
    "    }\n",
    "    return \"you lost\";\n",
    "    \n",
    "}"
   ]
  },
  {
   "cell_type": "code",
   "execution_count": 33,
   "id": "abbb4b97-9240-4e09-b9b9-dd76554481f3",
   "metadata": {},
   "outputs": [
    {
     "name": "stdout",
     "output_type": "stream",
     "text": [
      "Guess the number\n",
      "You guessed 3\n",
      "Actual number 3\n",
      "you guess was exact\n"
     ]
    },
    {
     "data": {
      "text/plain": [
       "\"you won\""
      ]
     },
     "execution_count": 33,
     "metadata": {},
     "output_type": "execute_result"
    }
   ],
   "source": [
    "guesser()"
   ]
  },
  {
   "cell_type": "code",
   "execution_count": null,
   "id": "b5b7b6c5-155a-487a-93ef-29450509ac08",
   "metadata": {},
   "outputs": [],
   "source": []
  }
 ],
 "metadata": {
  "kernelspec": {
   "display_name": "Rust",
   "language": "rust",
   "name": "rust"
  },
  "language_info": {
   "codemirror_mode": "rust",
   "file_extension": ".rs",
   "mimetype": "text/rust",
   "name": "Rust",
   "pygment_lexer": "rust",
   "version": ""
  }
 },
 "nbformat": 4,
 "nbformat_minor": 5
}
