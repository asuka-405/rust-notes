{
 "cells": [
  {
   "cell_type": "markdown",
   "id": "1b12e109-d815-435b-957e-88068a97d286",
   "metadata": {
    "jp-MarkdownHeadingCollapsed": true
   },
   "source": [
    "## variables are immutable by default"
   ]
  },
  {
   "cell_type": "code",
   "execution_count": 11,
   "id": "2223fb36-0c38-424c-80a8-93e7efc811eb",
   "metadata": {},
   "outputs": [
    {
     "ename": "Error",
     "evalue": "value assigned to `v` is never read",
     "output_type": "error",
     "traceback": [
      "\u001b[31m[unused_assignments] Error:\u001b[0m value assigned to `v` is never read",
      "   \u001b[38;5;246m╭\u001b[0m\u001b[38;5;246m─\u001b[0m\u001b[38;5;246m[\u001b[0mcommand_11:1:1\u001b[38;5;246m]\u001b[0m",
      "   \u001b[38;5;246m│\u001b[0m",
      " \u001b[38;5;246m1 │\u001b[0m \u001b[38;5;249ml\u001b[0m\u001b[38;5;249me\u001b[0m\u001b[38;5;249mt\u001b[0m\u001b[38;5;249m \u001b[0m\u001b[38;5;54mv\u001b[0m\u001b[38;5;249m:\u001b[0m\u001b[38;5;249m \u001b[0m\u001b[38;5;249mi\u001b[0m\u001b[38;5;249m3\u001b[0m\u001b[38;5;249m2\u001b[0m\u001b[38;5;249m \u001b[0m\u001b[38;5;249m=\u001b[0m\u001b[38;5;249m \u001b[0m\u001b[38;5;249m6\u001b[0m\u001b[38;5;249m;\u001b[0m",
      " \u001b[38;5;240m  │\u001b[0m     \u001b[38;5;54m┬\u001b[0m  ",
      " \u001b[38;5;240m  │\u001b[0m     \u001b[38;5;54m╰\u001b[0m\u001b[38;5;54m─\u001b[0m\u001b[38;5;54m─\u001b[0m warning: value assigned to `v` is never read",
      "\u001b[38;5;246m───╯\u001b[0m"
     ]
    },
    {
     "ename": "Error",
     "evalue": "cannot assign twice to immutable variable `v`",
     "output_type": "error",
     "traceback": [
      "\u001b[31m[E0384] Error:\u001b[0m cannot assign twice to immutable variable `v`",
      "   \u001b[38;5;246m╭\u001b[0m\u001b[38;5;246m─\u001b[0m\u001b[38;5;246m[\u001b[0mcommand_11:1:1\u001b[38;5;246m]\u001b[0m",
      "   \u001b[38;5;246m│\u001b[0m",
      " \u001b[38;5;246m1 │\u001b[0m \u001b[38;5;249ml\u001b[0m\u001b[38;5;249me\u001b[0m\u001b[38;5;249mt\u001b[0m\u001b[38;5;249m \u001b[0m\u001b[38;5;54mv\u001b[0m\u001b[38;5;249m:\u001b[0m\u001b[38;5;249m \u001b[0m\u001b[38;5;249mi\u001b[0m\u001b[38;5;249m3\u001b[0m\u001b[38;5;249m2\u001b[0m\u001b[38;5;249m \u001b[0m\u001b[38;5;249m=\u001b[0m\u001b[38;5;249m \u001b[0m\u001b[38;5;249m6\u001b[0m\u001b[38;5;249m;\u001b[0m",
      " \u001b[38;5;240m  │\u001b[0m     \u001b[38;5;54m┬\u001b[0m  ",
      " \u001b[38;5;240m  │\u001b[0m     \u001b[38;5;54m╰\u001b[0m\u001b[38;5;54m─\u001b[0m\u001b[38;5;54m─\u001b[0m first assignment to `v`",
      " \u001b[38;5;240m  │\u001b[0m     \u001b[38;5;68m│\u001b[0m  ",
      " \u001b[38;5;240m  │\u001b[0m     \u001b[38;5;68m╰\u001b[0m\u001b[38;5;68m─\u001b[0m\u001b[38;5;68m─\u001b[0m help: consider making this binding mutable: `mut v`",
      " \u001b[38;5;246m2 │\u001b[0m \u001b[38;5;100mv\u001b[0m\u001b[38;5;100m \u001b[0m\u001b[38;5;100m=\u001b[0m\u001b[38;5;100m \u001b[0m\u001b[38;5;100m6\u001b[0m\u001b[38;5;100m9\u001b[0m\u001b[38;5;249m;\u001b[0m",
      " \u001b[38;5;240m  │\u001b[0m \u001b[38;5;100m─\u001b[0m\u001b[38;5;100m─\u001b[0m\u001b[38;5;100m─\u001b[0m\u001b[38;5;100m┬\u001b[0m\u001b[38;5;100m─\u001b[0m\u001b[38;5;100m─\u001b[0m  ",
      " \u001b[38;5;240m  │\u001b[0m    \u001b[38;5;100m╰\u001b[0m\u001b[38;5;100m─\u001b[0m\u001b[38;5;100m─\u001b[0m\u001b[38;5;100m─\u001b[0m\u001b[38;5;100m─\u001b[0m cannot assign twice to immutable variable",
      " \u001b[38;5;240m  │\u001b[0m ",
      " \u001b[38;5;240m  │\u001b[0m \u001b[38;5;115mNote\u001b[0m: You can change an existing variable to mutable like: `let mut x = x;`",
      "\u001b[38;5;246m───╯\u001b[0m"
     ]
    }
   ],
   "source": [
    "let v: i32 = 6;\n",
    "v = 69;"
   ]
  },
  {
   "cell_type": "markdown",
   "id": "4d3d16d0-725d-4d9c-9d0f-7dab1ed9ca2b",
   "metadata": {
    "jp-MarkdownHeadingCollapsed": true
   },
   "source": [
    "## To declare a mutable variable, you have to use 'mut' keyword"
   ]
  },
  {
   "cell_type": "code",
   "execution_count": 16,
   "id": "963f6d71-8ef9-4165-aaf2-f40825117387",
   "metadata": {},
   "outputs": [
    {
     "name": "stdout",
     "output_type": "stream",
     "text": [
      "69\n"
     ]
    }
   ],
   "source": [
    "let mut mv: i32 = 6;\n",
    "print!(\"{}\", mv);\n",
    "mv = 9;\n",
    "print!(\"{}\\n\", mv);"
   ]
  },
  {
   "cell_type": "markdown",
   "id": "594f25c4-6cba-43df-9476-747f0c5d5a41",
   "metadata": {
    "jp-MarkdownHeadingCollapsed": true
   },
   "source": [
    "## Constants\n",
    "- they cannot be mutated by using 'mut' keyword.\n",
    "- they must be type annotated (rust can infer types of variables but in the case of const globals, it will not do the same).\n",
    "- they must be assigned the value in the same line where they are declared, you cannot set their value as a return type of any function or any value that is computed at runtime.\n",
    "- in rust, constants are written in caps in snake case."
   ]
  },
  {
   "cell_type": "code",
   "execution_count": 20,
   "id": "f33763d5-7bf1-44ee-a814-38e156c9e6b7",
   "metadata": {},
   "outputs": [],
   "source": [
    "const POPULATION_COUNT: i32 = 1_431_191_920;"
   ]
  },
  {
   "cell_type": "code",
   "execution_count": 21,
   "id": "642313fe-419d-4ba4-9c1b-0576c1f3423b",
   "metadata": {},
   "outputs": [
    {
     "ename": "Error",
     "evalue": "const globals cannot be mutable",
     "output_type": "error",
     "traceback": [
      "\u001b[31mError:\u001b[0m const globals cannot be mutable",
      "   \u001b[38;5;246m╭\u001b[0m\u001b[38;5;246m─\u001b[0m\u001b[38;5;246m[\u001b[0mcommand_21:1:1\u001b[38;5;246m]\u001b[0m",
      "   \u001b[38;5;246m│\u001b[0m",
      " \u001b[38;5;246m1 │\u001b[0m \u001b[38;5;100mc\u001b[0m\u001b[38;5;100mo\u001b[0m\u001b[38;5;100mn\u001b[0m\u001b[38;5;100ms\u001b[0m\u001b[38;5;100mt\u001b[0m\u001b[38;5;249m \u001b[0m\u001b[38;5;54mm\u001b[0m\u001b[38;5;54mu\u001b[0m\u001b[38;5;54mt\u001b[0m\u001b[38;5;249m \u001b[0m\u001b[38;5;249mP\u001b[0m\u001b[38;5;249mO\u001b[0m\u001b[38;5;249mP\u001b[0m\u001b[38;5;249mU\u001b[0m\u001b[38;5;249mL\u001b[0m\u001b[38;5;249mA\u001b[0m\u001b[38;5;249mT\u001b[0m\u001b[38;5;249mI\u001b[0m\u001b[38;5;249mO\u001b[0m\u001b[38;5;249mN\u001b[0m\u001b[38;5;249mC\u001b[0m\u001b[38;5;249mO\u001b[0m\u001b[38;5;249mU\u001b[0m\u001b[38;5;249mN\u001b[0m\u001b[38;5;249mT\u001b[0m\u001b[38;5;249m \u001b[0m\u001b[38;5;249m=\u001b[0m\u001b[38;5;249m \u001b[0m\u001b[38;5;249m1\u001b[0m\u001b[38;5;249m_\u001b[0m\u001b[38;5;249m4\u001b[0m\u001b[38;5;249m3\u001b[0m\u001b[38;5;249m1\u001b[0m\u001b[38;5;249m_\u001b[0m\u001b[38;5;249m1\u001b[0m\u001b[38;5;249m9\u001b[0m\u001b[38;5;249m1\u001b[0m\u001b[38;5;249m_\u001b[0m\u001b[38;5;249m9\u001b[0m\u001b[38;5;249m2\u001b[0m\u001b[38;5;249m0\u001b[0m\u001b[38;5;249m;\u001b[0m",
      " \u001b[38;5;240m  │\u001b[0m \u001b[38;5;100m─\u001b[0m\u001b[38;5;100m─\u001b[0m\u001b[38;5;100m┬\u001b[0m\u001b[38;5;100m─\u001b[0m\u001b[38;5;100m─\u001b[0m \u001b[38;5;54m─\u001b[0m\u001b[38;5;54m┬\u001b[0m\u001b[38;5;54m─\u001b[0m  ",
      " \u001b[38;5;240m  │\u001b[0m   \u001b[38;5;100m╰\u001b[0m\u001b[38;5;100m─\u001b[0m\u001b[38;5;100m─\u001b[0m\u001b[38;5;100m─\u001b[0m\u001b[38;5;100m─\u001b[0m\u001b[38;5;100m─\u001b[0m\u001b[38;5;100m─\u001b[0m\u001b[38;5;100m─\u001b[0m\u001b[38;5;100m─\u001b[0m help: you might want to declare a static instead: `static`",
      " \u001b[38;5;240m  │\u001b[0m        \u001b[38;5;54m│\u001b[0m   ",
      " \u001b[38;5;240m  │\u001b[0m        \u001b[38;5;54m╰\u001b[0m\u001b[38;5;54m─\u001b[0m\u001b[38;5;54m─\u001b[0m\u001b[38;5;54m─\u001b[0m cannot be mutable",
      "\u001b[38;5;246m───╯\u001b[0m"
     ]
    },
    {
     "ename": "Error",
     "evalue": "missing type for `const` item",
     "output_type": "error",
     "traceback": [
      "\u001b[31mError:\u001b[0m missing type for `const` item",
      "   \u001b[38;5;246m╭\u001b[0m\u001b[38;5;246m─\u001b[0m\u001b[38;5;246m[\u001b[0mcommand_21:1:1\u001b[38;5;246m]\u001b[0m",
      "   \u001b[38;5;246m│\u001b[0m",
      " \u001b[38;5;246m1 │\u001b[0m \u001b[38;5;249mc\u001b[0m\u001b[38;5;249mo\u001b[0m\u001b[38;5;249mn\u001b[0m\u001b[38;5;249ms\u001b[0m\u001b[38;5;249mt\u001b[0m\u001b[38;5;249m \u001b[0m\u001b[38;5;249mm\u001b[0m\u001b[38;5;249mu\u001b[0m\u001b[38;5;249mt\u001b[0m\u001b[38;5;249m \u001b[0m\u001b[38;5;249mP\u001b[0m\u001b[38;5;249mO\u001b[0m\u001b[38;5;249mP\u001b[0m\u001b[38;5;249mU\u001b[0m\u001b[38;5;249mL\u001b[0m\u001b[38;5;249mA\u001b[0m\u001b[38;5;249mT\u001b[0m\u001b[38;5;249mI\u001b[0m\u001b[38;5;249mO\u001b[0m\u001b[38;5;249mN\u001b[0m\u001b[38;5;249mC\u001b[0m\u001b[38;5;249mO\u001b[0m\u001b[38;5;249mU\u001b[0m\u001b[38;5;249mN\u001b[0m\u001b[38;5;249mT\u001b[0m\u001b[38;5;249m \u001b[0m\u001b[38;5;249m=\u001b[0m\u001b[38;5;249m \u001b[0m\u001b[38;5;249m1\u001b[0m\u001b[38;5;249m_\u001b[0m\u001b[38;5;249m4\u001b[0m\u001b[38;5;249m3\u001b[0m\u001b[38;5;249m1\u001b[0m\u001b[38;5;249m_\u001b[0m\u001b[38;5;249m1\u001b[0m\u001b[38;5;249m9\u001b[0m\u001b[38;5;249m1\u001b[0m\u001b[38;5;249m_\u001b[0m\u001b[38;5;249m9\u001b[0m\u001b[38;5;249m2\u001b[0m\u001b[38;5;249m0\u001b[0m\u001b[38;5;249m;\u001b[0m",
      " \u001b[38;5;240m  │\u001b[0m                          \u001b[38;5;54m│\u001b[0m ",
      " \u001b[38;5;240m  │\u001b[0m                          \u001b[38;5;54m╰\u001b[0m\u001b[38;5;54m─\u001b[0m error: missing type for `const` item",
      " \u001b[38;5;240m  │\u001b[0m                          \u001b[38;5;100m│\u001b[0m ",
      " \u001b[38;5;240m  │\u001b[0m                          \u001b[38;5;100m╰\u001b[0m\u001b[38;5;100m─\u001b[0m help: provide a type for the constant: `: i32`",
      "\u001b[38;5;246m───╯\u001b[0m"
     ]
    }
   ],
   "source": [
    "const mut POPULATIONCOUNT = 1_431_191_920;"
   ]
  },
  {
   "cell_type": "code",
   "execution_count": 22,
   "id": "77b663d4-5058-461c-8e7d-2ab147fa4748",
   "metadata": {},
   "outputs": [
    {
     "ename": "Error",
     "evalue": "missing type for `const` item",
     "output_type": "error",
     "traceback": [
      "\u001b[31mError:\u001b[0m missing type for `const` item",
      "   \u001b[38;5;246m╭\u001b[0m\u001b[38;5;246m─\u001b[0m\u001b[38;5;246m[\u001b[0mcommand_22:1:1\u001b[38;5;246m]\u001b[0m",
      "   \u001b[38;5;246m│\u001b[0m",
      " \u001b[38;5;246m1 │\u001b[0m \u001b[38;5;249mc\u001b[0m\u001b[38;5;249mo\u001b[0m\u001b[38;5;249mn\u001b[0m\u001b[38;5;249ms\u001b[0m\u001b[38;5;249mt\u001b[0m\u001b[38;5;249m \u001b[0m\u001b[38;5;249mP\u001b[0m\u001b[38;5;249mO\u001b[0m\u001b[38;5;249mP\u001b[0m\u001b[38;5;249mC\u001b[0m\u001b[38;5;249mO\u001b[0m\u001b[38;5;249mU\u001b[0m\u001b[38;5;249mN\u001b[0m\u001b[38;5;249mT\u001b[0m\u001b[38;5;249m \u001b[0m\u001b[38;5;249m=\u001b[0m\u001b[38;5;249m \u001b[0m\u001b[38;5;249m1\u001b[0m\u001b[38;5;249m_\u001b[0m\u001b[38;5;249m4\u001b[0m\u001b[38;5;249m3\u001b[0m\u001b[38;5;249m1\u001b[0m\u001b[38;5;249m_\u001b[0m\u001b[38;5;249m1\u001b[0m\u001b[38;5;249m9\u001b[0m\u001b[38;5;249m1\u001b[0m\u001b[38;5;249m_\u001b[0m\u001b[38;5;249m9\u001b[0m\u001b[38;5;249m2\u001b[0m\u001b[38;5;249m0\u001b[0m\u001b[38;5;249m;\u001b[0m",
      " \u001b[38;5;240m  │\u001b[0m               \u001b[38;5;54m│\u001b[0m ",
      " \u001b[38;5;240m  │\u001b[0m               \u001b[38;5;54m╰\u001b[0m\u001b[38;5;54m─\u001b[0m error: missing type for `const` item",
      " \u001b[38;5;240m  │\u001b[0m               \u001b[38;5;100m│\u001b[0m ",
      " \u001b[38;5;240m  │\u001b[0m               \u001b[38;5;100m╰\u001b[0m\u001b[38;5;100m─\u001b[0m help: provide a type for the constant: `: i32`",
      "\u001b[38;5;246m───╯\u001b[0m"
     ]
    }
   ],
   "source": [
    "const POPCOUNT = 1_431_191_920;"
   ]
  },
  {
   "cell_type": "code",
   "execution_count": 19,
   "id": "fd7f7740-87c0-47b4-9e5e-37be2d1b3501",
   "metadata": {},
   "outputs": [
    {
     "ename": "Error",
     "evalue": "cannot call non-const fn `get_pop` in constants",
     "output_type": "error",
     "traceback": [
      "\u001b[31m[E0015] Error:\u001b[0m cannot call non-const fn `get_pop` in constants",
      "   \u001b[38;5;246m╭\u001b[0m\u001b[38;5;246m─\u001b[0m\u001b[38;5;246m[\u001b[0mcommand_19:1:1\u001b[38;5;246m]\u001b[0m",
      "   \u001b[38;5;246m│\u001b[0m",
      " \u001b[38;5;246m6 │\u001b[0m \u001b[38;5;249mc\u001b[0m\u001b[38;5;249mo\u001b[0m\u001b[38;5;249mn\u001b[0m\u001b[38;5;249ms\u001b[0m\u001b[38;5;249mt\u001b[0m\u001b[38;5;249m \u001b[0m\u001b[38;5;249mP\u001b[0m\u001b[38;5;249mO\u001b[0m\u001b[38;5;249mP\u001b[0m\u001b[38;5;249mC\u001b[0m\u001b[38;5;249m:\u001b[0m\u001b[38;5;249m \u001b[0m\u001b[38;5;249mi\u001b[0m\u001b[38;5;249m3\u001b[0m\u001b[38;5;249m2\u001b[0m\u001b[38;5;249m \u001b[0m\u001b[38;5;249m=\u001b[0m\u001b[38;5;249m \u001b[0m\u001b[38;5;54mg\u001b[0m\u001b[38;5;54me\u001b[0m\u001b[38;5;54mt\u001b[0m\u001b[38;5;54m_\u001b[0m\u001b[38;5;54mp\u001b[0m\u001b[38;5;54mo\u001b[0m\u001b[38;5;54mp\u001b[0m\u001b[38;5;54m(\u001b[0m\u001b[38;5;54m)\u001b[0m\u001b[38;5;249m;\u001b[0m",
      " \u001b[38;5;240m  │\u001b[0m                   \u001b[38;5;54m─\u001b[0m\u001b[38;5;54m─\u001b[0m\u001b[38;5;54m─\u001b[0m\u001b[38;5;54m─\u001b[0m\u001b[38;5;54m┬\u001b[0m\u001b[38;5;54m─\u001b[0m\u001b[38;5;54m─\u001b[0m\u001b[38;5;54m─\u001b[0m\u001b[38;5;54m─\u001b[0m  ",
      " \u001b[38;5;240m  │\u001b[0m                       \u001b[38;5;54m╰\u001b[0m\u001b[38;5;54m─\u001b[0m\u001b[38;5;54m─\u001b[0m\u001b[38;5;54m─\u001b[0m\u001b[38;5;54m─\u001b[0m\u001b[38;5;54m─\u001b[0m\u001b[38;5;54m─\u001b[0m error: cannot call non-const fn `get_pop` in constants",
      "\u001b[38;5;246m───╯\u001b[0m"
     ]
    }
   ],
   "source": [
    "fn get_pop() -> i32 { \n",
    "    let pop: i32 = 1_431_191_920;\n",
    "    return pop;\n",
    "}\n",
    "\n",
    "const POPC: i32 = get_pop();"
   ]
  },
  {
   "cell_type": "markdown",
   "id": "1548ff2a-d2fd-4e71-ad7f-2a47de3f71cc",
   "metadata": {
    "jp-MarkdownHeadingCollapsed": true
   },
   "source": [
    "## Shadowing\n",
    "- you can redeclare a variable rather than setting it to be mutable.\n",
    "- the first value will be accessible till the new declaration and after that, the old declaration will be shadowed by the new one.\n",
    "- you can use it to change datatype of a variable."
   ]
  },
  {
   "cell_type": "code",
   "execution_count": 23,
   "id": "9ae79207-8d71-4750-8699-e15a7e8ee01e",
   "metadata": {},
   "outputs": [
    {
     "name": "stdout",
     "output_type": "stream",
     "text": [
      "6\n",
      "six\n"
     ]
    }
   ],
   "source": [
    "let x: i8 = 6;\n",
    "println!(\"{}\", x);\n",
    "let x: &str = \"six\";\n",
    "println!(\"{}\", x);"
   ]
  },
  {
   "cell_type": "markdown",
   "id": "f51ce649-0191-4dc6-b594-eb27ade35e67",
   "metadata": {
    "jp-MarkdownHeadingCollapsed": true
   },
   "source": [
    "# Data Types\n",
    "- Scalar : Represent a single value\n",
    "- Compound : Represent a group of values"
   ]
  },
  {
   "cell_type": "markdown",
   "id": "18e965ab-f227-45b3-9fb0-45d2c949c422",
   "metadata": {
    "jp-MarkdownHeadingCollapsed": true
   },
   "source": [
    "## Scalar data types :"
   ]
  },
  {
   "cell_type": "markdown",
   "id": "6d089357-f475-4755-9cf5-86cbd8f035c9",
   "metadata": {},
   "source": [
    "Scalar types implement a display trait and can be printed the regular way ( print!(\"{}\", var) )\n",
    "### Integers\n",
    "- i8 / u8\n",
    "- i16 / u16\n",
    "- i32 / u32\n",
    "- i64 / u64\n",
    "- i128 / u128\n",
    "- iarch / uarch (depends on system architecture)\n",
    "- representing in diffrent formats:\n",
    "    - decimal = 8_235\n",
    "    - hex = 0xff\n",
    "    - octal = 0o77\n",
    "    - binary = 0b1111_0000\n",
    "    - byte (only u8) = b'A'"
   ]
  },
  {
   "cell_type": "code",
   "execution_count": 25,
   "id": "6d7751a9-923b-4ada-bdff-dcebba83f2d2",
   "metadata": {
    "scrolled": true
   },
   "outputs": [
    {
     "name": "stdout",
     "output_type": "stream",
     "text": [
      "9342\n",
      "255\n",
      "63\n",
      "240\n",
      "65\n"
     ]
    }
   ],
   "source": [
    "let n: i32 = 9_342;\n",
    "println!(\"{}\", n);\n",
    "let n = 0xff;\n",
    "println!(\"{}\", n);\n",
    "let n = 0o77;\n",
    "println!(\"{}\", n);\n",
    "let n = 0b1111_0000;\n",
    "println!(\"{}\", n);\n",
    "let n: u8 = b'A';\n",
    "println!(\"{}\", n);"
   ]
  },
  {
   "cell_type": "markdown",
   "id": "df44752d-576f-4aaf-a938-c08f010bb768",
   "metadata": {},
   "source": [
    "### Others\n",
    "- Floats\n",
    "    - f32\n",
    "    - f64 (double in rust)\n",
    "- Boolean\n",
    "    - bool\n",
    "- Character\n",
    "    - char"
   ]
  },
  {
   "cell_type": "code",
   "execution_count": 28,
   "id": "b3f7e482-a287-475f-a656-8bca4462a944",
   "metadata": {},
   "outputs": [
    {
     "name": "stdout",
     "output_type": "stream",
     "text": [
      "⚡\n"
     ]
    }
   ],
   "source": [
    "let x: f32 = 2.0;\n",
    "let x: f64 = 3.0;\n",
    "let x: bool = true;\n",
    "let x: char = 'x';\n",
    "let x: char = '⚡';\n",
    "println!(\"{}\", x);"
   ]
  },
  {
   "cell_type": "markdown",
   "id": "950f9dc9-e975-49c9-b6c1-2f16616127d0",
   "metadata": {},
   "source": [
    "## Compound data types :"
   ]
  },
  {
   "cell_type": "markdown",
   "id": "4fb6a9af-e986-4b7a-afd8-051069251c0c",
   "metadata": {
    "jp-MarkdownHeadingCollapsed": true
   },
   "source": [
    "### Tuple\n",
    "- It is like a fixed size array containing related data.\n",
    "- It is a comma seperated list inside parenthesis.\n",
    "- We can extract data from a tuple by:\n",
    "    - destructuring\n",
    "    - dot notation"
   ]
  },
  {
   "cell_type": "code",
   "execution_count": 33,
   "id": "c6410773-c261-4e0e-9ba6-489853518259",
   "metadata": {},
   "outputs": [
    {
     "name": "stdout",
     "output_type": "stream",
     "text": [
      "bharat is ranked at no. 5 in top world economies\n",
      "the no. 5 economy of the world is bharat\n"
     ]
    }
   ],
   "source": [
    "let tup = (\"bharat\", 5);\n",
    "let (country, economy) = tup;\n",
    "println!(\"{} is ranked at no. {} in top world economies\", country, economy);\n",
    "println!(\"the no. {} economy of the world is {}\", tup.1, tup.0);"
   ]
  },
  {
   "cell_type": "markdown",
   "id": "fb8cb4af-8105-46dc-a1de-09430bb0be66",
   "metadata": {
    "jp-MarkdownHeadingCollapsed": true
   },
   "source": [
    "### Array\n",
    "- In rust, they are fixed length.\n",
    "- To use dynamic arrays, you have to use a vector instead"
   ]
  },
  {
   "cell_type": "code",
   "execution_count": 41,
   "id": "15229f33-074c-4506-8050-e403b229909c",
   "metadata": {},
   "outputs": [
    {
     "name": "stdout",
     "output_type": "stream",
     "text": [
      "404 0\n"
     ]
    }
   ],
   "source": [
    "let shorthand: [i8; 8] = [0; 8];\n",
    "let err_codes: [i32; 3] = [200, 404, 500];\n",
    "println!(\"{} {}\", err_codes[1], shorthand[7]);"
   ]
  },
  {
   "cell_type": "markdown",
   "id": "c370dcf7-37bf-47f3-b5ca-b88c1a077f03",
   "metadata": {
    "jp-MarkdownHeadingCollapsed": true
   },
   "source": [
    "# Functions\n",
    "- Function names should be in snake case\n",
    "- Returning from function:\n",
    "    - you can use 'return' keyword to return no matter where you are in the function.\n",
    "    - if you're in the last line of the function you can simply write the name of the variable to returned or the expression that should be evaluated before returning that too without any line terminator semicolon."
   ]
  },
  {
   "cell_type": "code",
   "execution_count": 44,
   "id": "4cea88c7-06e5-4e39-a43b-b98fb4cd9cfa",
   "metadata": {},
   "outputs": [
    {
     "name": "stdout",
     "output_type": "stream",
     "text": [
      "2\n"
     ]
    }
   ],
   "source": [
    "fn some_fn(x: i8) -> i8{\n",
    "    if x < 5 {\n",
    "        return x;\n",
    "    }\n",
    "    x-4\n",
    "}\n",
    "println!(\"{}\", some_fn(6));"
   ]
  },
  {
   "cell_type": "markdown",
   "id": "3c85cbe2-5133-4861-a77a-4ea613643f78",
   "metadata": {
    "jp-MarkdownHeadingCollapsed": true
   },
   "source": [
    "# Control flow"
   ]
  },
  {
   "cell_type": "markdown",
   "id": "1a07728b-9441-465c-9495-6ade2c7cb2bd",
   "metadata": {
    "jp-MarkdownHeadingCollapsed": true
   },
   "source": [
    "## if statements\n",
    "- all the if statements are syntactically same as java, although the only diffrence is that the condition is not encapsulated within parenthesis.\n",
    "### ternary expression\n",
    "    - if condition { value } else { value };"
   ]
  },
  {
   "cell_type": "code",
   "execution_count": 45,
   "id": "42b89e97-f610-4d43-b003-92f78dea5584",
   "metadata": {},
   "outputs": [
    {
     "name": "stdout",
     "output_type": "stream",
     "text": [
      "5\n"
     ]
    }
   ],
   "source": [
    "let condition: bool = true;\n",
    "let num: i8 = if condition {5} else {1};\n",
    "println!(\"{}\", num);"
   ]
  },
  {
   "cell_type": "markdown",
   "id": "987eea17-5628-46c1-a98a-8518728b9a6c",
   "metadata": {
    "jp-MarkdownHeadingCollapsed": true
   },
   "source": [
    "## loops\n",
    "### loop\n",
    "- Infinite loop that runs until 'break' keyword is somehow reached.\n",
    "- We can return values from the loop and this type of loop should have a semicolon to terminate it.\n",
    "### while\n",
    "- the classical while loop just conditions without parenthesis.\n",
    "### for in loop\n",
    "- useful when looping over a collection of items.\n",
    "- or you can use it to run it for a range of numbers."
   ]
  },
  {
   "cell_type": "code",
   "execution_count": 54,
   "id": "62d32e38-d606-40ec-ae4b-2a6c422327e2",
   "metadata": {},
   "outputs": [
    {
     "name": "stdout",
     "output_type": "stream",
     "text": [
      "100\n"
     ]
    }
   ],
   "source": [
    "let mut counter: i32 = 0;\n",
    "let final_counter: i32 = loop {\n",
    "    counter += 1;\n",
    "    if counter == 100 {\n",
    "        break counter;\n",
    "    }\n",
    "};\n",
    "println!(\"{}\", final_counter);"
   ]
  },
  {
   "cell_type": "code",
   "execution_count": 57,
   "id": "db183218-183d-43f6-92c6-c803a4eea162",
   "metadata": {},
   "outputs": [
    {
     "name": "stdout",
     "output_type": "stream",
     "text": [
      "134565685\n"
     ]
    }
   ],
   "source": [
    "let arr: [i32; 9] = [1,3,4,5,6,5,6,8,5];\n",
    "for e in arr.iter() {\n",
    "    print!(\"{}\", e);\n",
    "}\n",
    "println!();"
   ]
  },
  {
   "cell_type": "code",
   "execution_count": 60,
   "id": "a519adc8-59c9-4b0e-9c5e-72117b3d010d",
   "metadata": {},
   "outputs": [
    {
     "name": "stdout",
     "output_type": "stream",
     "text": [
      "1234567891011121314151617181920212223242526272829303132333435363738394041424344454647484950\n"
     ]
    }
   ],
   "source": [
    "for num in 1..51 {\n",
    "    print!(\"{}\", num);\n",
    "}\n",
    "println!();"
   ]
  }
 ],
 "metadata": {
  "kernelspec": {
   "display_name": "Rust",
   "language": "rust",
   "name": "rust"
  },
  "language_info": {
   "codemirror_mode": "rust",
   "file_extension": ".rs",
   "mimetype": "text/rust",
   "name": "Rust",
   "pygment_lexer": "rust",
   "version": ""
  }
 },
 "nbformat": 4,
 "nbformat_minor": 5
}
