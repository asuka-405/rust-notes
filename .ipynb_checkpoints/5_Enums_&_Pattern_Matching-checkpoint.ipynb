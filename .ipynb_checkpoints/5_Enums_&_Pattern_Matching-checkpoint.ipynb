{
 "cells": [
  {
   "cell_type": "markdown",
   "id": "137ec00d-47b8-4948-9267-3180a08945d3",
   "metadata": {},
   "source": [
    "# Basics of enums"
   ]
  },
  {
   "cell_type": "code",
   "execution_count": 5,
   "id": "cc83ce58-866a-4d17-8f89-4789b8d389f4",
   "metadata": {},
   "outputs": [],
   "source": [
    "#[derive(Debug)]\n",
    "enum IPAddress{\n",
    "    V4(u8, u8, u8, u8),\n",
    "    V6(u8, u8, u8, u8)\n",
    "}"
   ]
  },
  {
   "cell_type": "code",
   "execution_count": 6,
   "id": "d82595e4-c9fb-4826-a358-efc4ef8da313",
   "metadata": {},
   "outputs": [],
   "source": [
    "let localhost = IPAddress::V4(127, 0, 0, 1);"
   ]
  },
  {
   "cell_type": "code",
   "execution_count": 9,
   "id": "42784cbf-b3d8-43e4-ae41-184b8a05502e",
   "metadata": {},
   "outputs": [
    {
     "name": "stdout",
     "output_type": "stream",
     "text": [
      "localhost IP : V4(127, 0, 0, 1)\n"
     ]
    }
   ],
   "source": [
    "println!(\"localhost IP : {:?}\", localhost);"
   ]
  },
  {
   "cell_type": "markdown",
   "id": "e84895f3-4bc9-43c2-856b-39a5c688502e",
   "metadata": {},
   "source": [
    "## The 'Option' enum\n",
    "- In rust there are no null values.\n",
    "- Instead, we have the option enum.\n",
    "- It has 2 variants:\n",
    "    - Some\n",
    "    - None\n",
    "- If we have a value that could potentially not exit, then we wrap that variable in the option enum.\n",
    "- This allows the type system to enforce us to handle the None case."
   ]
  },
  {
   "cell_type": "code",
   "execution_count": 10,
   "id": "37198a5e-57f3-4909-9119-1e4162624cc8",
   "metadata": {},
   "outputs": [],
   "source": [
    "let some_number: Option<i32> = Some(5);\n",
    "let some_string: Option<&str> = Some(\"string\");\n",
    "let absent_number: Option<i32> = None;"
   ]
  },
  {
   "cell_type": "code",
   "execution_count": 16,
   "id": "750421bd-66f1-4d4b-8a19-5f2b9b761d91",
   "metadata": {},
   "outputs": [
    {
     "name": "stdout",
     "output_type": "stream",
     "text": [
      "10\n"
     ]
    }
   ],
   "source": [
    "let x: u8 = 5;\n",
    "let y: Option<u8> = Some(5);\n",
    "let z: Option<u8> = None;\n",
    "\n",
    "// unwrap_or method checks if the value exists;\n",
    "// if it acutally exists it runs the code with that value,\n",
    "// else it runs the code with the default value that's passed into the method;\n",
    "let sum: u8 = x + y.unwrap_or(0) + z.unwrap_or(0);\n",
    "\n",
    "println!(\"{}\", sum);"
   ]
  },
  {
   "cell_type": "markdown",
   "id": "3f0e1898-0eb8-48ce-9fdc-a28332eb063b",
   "metadata": {},
   "source": [
    "## The 'match' expression\n",
    "- Match expressions are exhaustive, we've to handle all possible variants of the matching expression."
   ]
  },
  {
   "cell_type": "code",
   "execution_count": 21,
   "id": "88afe397-75d2-415b-bc68-ccf880175a13",
   "metadata": {},
   "outputs": [
    {
     "name": "stdout",
     "output_type": "stream",
     "text": [
      "69\n"
     ]
    }
   ],
   "source": [
    "fn increment(x: Option<i8>) -> Option<i8> {\n",
    "    match x {\n",
    "        None => Some(9),\n",
    "        Some(i) => Some(i+1),\n",
    "    }\n",
    "}\n",
    "\n",
    "let five: i8 = 5;\n",
    "let six: Option<i8> = increment(Some(five));\n",
    "let none: Option<i8> = increment(None);\n",
    "\n",
    "println!(\"{}{}\", six.unwrap_or(0), none.unwrap_or(0));"
   ]
  },
  {
   "cell_type": "code",
   "execution_count": 23,
   "id": "e74c9503-652d-478b-bc7d-d812c5251801",
   "metadata": {},
   "outputs": [
    {
     "name": "stdout",
     "output_type": "stream",
     "text": [
      "you'll get a normal sleep\n",
      "you'll get a good night's sleep\n"
     ]
    }
   ],
   "source": [
    "fn match_num(position: i32){\n",
    "    match position {\n",
    "        // this will specifically check if the value is 69;\n",
    "        69 => println!(\"you'll get a good night's sleep\"),\n",
    "        // the '_' will match all the values passed in the 'match' expression;\n",
    "        _ => println!(\"you'll get a normal sleep\")\n",
    "    }\n",
    "}\n",
    "\n",
    "match_num(68);\n",
    "match_num(69);"
   ]
  },
  {
   "cell_type": "markdown",
   "id": "5c53b86d-8928-4199-a187-28553b591c44",
   "metadata": {},
   "source": [
    "## if let syntax\n",
    "- match will handle all possible variants which might be an overkill in many cases.\n",
    "- if let syntax lets us execute some code block if it matches the given statement."
   ]
  },
  {
   "cell_type": "code",
   "execution_count": 25,
   "id": "29a5f278-bddc-4cb3-be36-ad73097ceccf",
   "metadata": {},
   "outputs": [
    {
     "name": "stdout",
     "output_type": "stream",
     "text": [
      "Some(3)\n"
     ]
    },
    {
     "data": {
      "text/plain": [
       "()"
      ]
     },
     "execution_count": 25,
     "metadata": {},
     "output_type": "execute_result"
    }
   ],
   "source": [
    "let some_number = Some(3);\n",
    "\n",
    "if let Some(3) = some_number {\n",
    "    println!(\"{:?}\", some_number);\n",
    "}"
   ]
  }
 ],
 "metadata": {
  "kernelspec": {
   "display_name": "Rust",
   "language": "rust",
   "name": "rust"
  },
  "language_info": {
   "codemirror_mode": "rust",
   "file_extension": ".rs",
   "mimetype": "text/rust",
   "name": "Rust",
   "pygment_lexer": "rust",
   "version": ""
  }
 },
 "nbformat": 4,
 "nbformat_minor": 5
}
