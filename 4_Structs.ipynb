{
 "cells": [
  {
   "cell_type": "markdown",
   "id": "7deb89e1-c03f-41d1-aa25-df9873f5382a",
   "metadata": {},
   "source": [
    "# Structs in Rust\n",
    "Structs and other custom tyepes like vector do not implement the display trait and cannot be printed like scalar types. <br>\n",
    "You must either derive the debug trait or implement it yourself to print these types."
   ]
  },
  {
   "cell_type": "code",
   "execution_count": 2,
   "id": "c7b3327d-c957-440c-9dad-cd6ae1f65808",
   "metadata": {},
   "outputs": [],
   "source": [
    "#[derive(Debug)]\n",
    "struct Rect {\n",
    "    width: u64,\n",
    "    height: u64\n",
    "}"
   ]
  },
  {
   "cell_type": "code",
   "execution_count": 3,
   "id": "14e9f621-b46e-453c-86e6-891a59ab92d5",
   "metadata": {},
   "outputs": [
    {
     "name": "stdout",
     "output_type": "stream",
     "text": [
      " rectangle: Rect {\n",
      "    width: 69,\n",
      "    height: 11,\n",
      "}\n"
     ]
    }
   ],
   "source": [
    "let r1: Rect = Rect {\n",
    "    width: 69,\n",
    "    height: 11,\n",
    "};\n",
    "println!(\" rectangle: {:#?}\", r1);"
   ]
  },
  {
   "cell_type": "code",
   "execution_count": 4,
   "id": "755a74de-c75e-4743-8c40-b7efda0a2f61",
   "metadata": {},
   "outputs": [],
   "source": [
    "// these are methods that can be called on the instances of the struct 'Rect';\n",
    "// if a function inside impl of a struct takes &self as its argument, it is a method;\n",
    "impl Rect{\n",
    "    fn area(&self) -> u64 {\n",
    "        self.width * self.height\n",
    "    }\n",
    "    fn can_hold(&self, to_hold: &Rect) -> bool{\n",
    "        self.width > to_hold.width && self.height > to_hold.height\n",
    "    }\n",
    "}"
   ]
  },
  {
   "cell_type": "code",
   "execution_count": 5,
   "id": "fa00859c-ee85-4a12-b24b-1c10b0506afc",
   "metadata": {},
   "outputs": [],
   "source": [
    "// these are the associated fucntions of the struct and are not bound by instances of the same struct;\n",
    "// if a function inside impl of a struct does not take &self as its argument, it is a associated function;\n",
    "impl Rect {\n",
    "    fn square(size: u64) -> Rect {\n",
    "        Rect {\n",
    "            width: size,\n",
    "            height: size,\n",
    "        }\n",
    "    }\n",
    "}"
   ]
  },
  {
   "cell_type": "code",
   "execution_count": 6,
   "id": "b8360d22-8f97-41b4-85fe-797188cb199c",
   "metadata": {},
   "outputs": [
    {
     "name": "stdout",
     "output_type": "stream",
     "text": [
      "r1 can hold r2: true\n",
      "r2 can hold r1: false\n"
     ]
    }
   ],
   "source": [
    "let r2: Rect = Rect {\n",
    "    width: 68,\n",
    "    height: 10,\n",
    "};\n",
    "println!(\"r1 can hold r2: {}\", r1.can_hold(&r2));\n",
    "println!(\"r2 can hold r1: {}\", r2.can_hold(&r1));"
   ]
  },
  {
   "cell_type": "code",
   "execution_count": 7,
   "id": "05072011-0268-4c5e-baed-f1e080f45a1a",
   "metadata": {},
   "outputs": [
    {
     "name": "stdout",
     "output_type": "stream",
     "text": [
      "generated square: Rect {\n",
      "    width: 69,\n",
      "    height: 69,\n",
      "}\n"
     ]
    }
   ],
   "source": [
    "let r3: Rect = Rect::square(69);\n",
    "println!(\"generated square: {:#?}\", r3);"
   ]
  },
  {
   "cell_type": "code",
   "execution_count": 8,
   "id": "2b83e19f-f1d6-4d69-89e2-d7701dddcadf",
   "metadata": {},
   "outputs": [],
   "source": [
    "#[derive(Debug)]\n",
    "struct User {\n",
    "    username: String,\n",
    "    email: String,\n",
    "    sign_in_count: u64,\n",
    "    is_active: bool\n",
    "}"
   ]
  },
  {
   "cell_type": "code",
   "execution_count": 20,
   "id": "0818c498-4831-4b42-b99c-2b683068550d",
   "metadata": {},
   "outputs": [],
   "source": [
    "// you must make entire struct mutable if you want to edit even 1 value in it;\n",
    "// you cannot have 1 or 2 mutable fields in a struct, eithier entire struct is mutable or no value can be mutated;\n",
    "let mut user1 = User {\n",
    "    email: String::from(\"s\"),\n",
    "    username: String::from(\"s\"),\n",
    "    is_active: true,\n",
    "    sign_in_count: 1,\n",
    "};"
   ]
  },
  {
   "cell_type": "code",
   "execution_count": 24,
   "id": "48ab23b0-19e3-451f-b91e-e9862d64fe9d",
   "metadata": {},
   "outputs": [
    {
     "ename": "Error",
     "evalue": "cannot find value `user1` in this scope",
     "output_type": "error",
     "traceback": [
      "\u001b[31m[E0425] Error:\u001b[0m cannot find value `user1` in this scope",
      "   \u001b[38;5;246m╭\u001b[0m\u001b[38;5;246m─\u001b[0m\u001b[38;5;246m[\u001b[0mcommand_24:1:1\u001b[38;5;246m]\u001b[0m",
      "   \u001b[38;5;246m│\u001b[0m",
      " \u001b[38;5;246m1 │\u001b[0m \u001b[38;5;249ml\u001b[0m\u001b[38;5;249me\u001b[0m\u001b[38;5;249mt\u001b[0m\u001b[38;5;249m \u001b[0m\u001b[38;5;249mn\u001b[0m\u001b[38;5;249ma\u001b[0m\u001b[38;5;249mm\u001b[0m\u001b[38;5;249me\u001b[0m\u001b[38;5;249m:\u001b[0m\u001b[38;5;249m \u001b[0m\u001b[38;5;249mS\u001b[0m\u001b[38;5;249mt\u001b[0m\u001b[38;5;249mr\u001b[0m\u001b[38;5;249mi\u001b[0m\u001b[38;5;249mn\u001b[0m\u001b[38;5;249mg\u001b[0m\u001b[38;5;249m \u001b[0m\u001b[38;5;249m=\u001b[0m\u001b[38;5;249m \u001b[0m\u001b[38;5;54mu\u001b[0m\u001b[38;5;54ms\u001b[0m\u001b[38;5;54me\u001b[0m\u001b[38;5;54mr\u001b[0m\u001b[38;5;54m1\u001b[0m\u001b[38;5;249m.\u001b[0m\u001b[38;5;249mu\u001b[0m\u001b[38;5;249ms\u001b[0m\u001b[38;5;249me\u001b[0m\u001b[38;5;249mr\u001b[0m\u001b[38;5;249mn\u001b[0m\u001b[38;5;249ma\u001b[0m\u001b[38;5;249mm\u001b[0m\u001b[38;5;249me\u001b[0m\u001b[38;5;249m;\u001b[0m",
      " \u001b[38;5;240m  │\u001b[0m                    \u001b[38;5;54m─\u001b[0m\u001b[38;5;54m─\u001b[0m\u001b[38;5;54m┬\u001b[0m\u001b[38;5;54m─\u001b[0m\u001b[38;5;54m─\u001b[0m  ",
      " \u001b[38;5;240m  │\u001b[0m                      \u001b[38;5;54m╰\u001b[0m\u001b[38;5;54m─\u001b[0m\u001b[38;5;54m─\u001b[0m\u001b[38;5;54m─\u001b[0m\u001b[38;5;54m─\u001b[0m not found in this scope",
      "\u001b[38;5;246m───╯\u001b[0m"
     ]
    },
    {
     "ename": "Error",
     "evalue": "cannot find value `user1` in this scope",
     "output_type": "error",
     "traceback": [
      "\u001b[31m[E0425] Error:\u001b[0m cannot find value `user1` in this scope",
      "   \u001b[38;5;246m╭\u001b[0m\u001b[38;5;246m─\u001b[0m\u001b[38;5;246m[\u001b[0mcommand_24:1:1\u001b[38;5;246m]\u001b[0m",
      "   \u001b[38;5;246m│\u001b[0m",
      " \u001b[38;5;246m2 │\u001b[0m \u001b[38;5;54mu\u001b[0m\u001b[38;5;54ms\u001b[0m\u001b[38;5;54me\u001b[0m\u001b[38;5;54mr\u001b[0m\u001b[38;5;54m1\u001b[0m\u001b[38;5;249m.\u001b[0m\u001b[38;5;249mu\u001b[0m\u001b[38;5;249ms\u001b[0m\u001b[38;5;249me\u001b[0m\u001b[38;5;249mr\u001b[0m\u001b[38;5;249mn\u001b[0m\u001b[38;5;249ma\u001b[0m\u001b[38;5;249mm\u001b[0m\u001b[38;5;249me\u001b[0m\u001b[38;5;249m \u001b[0m\u001b[38;5;249m=\u001b[0m\u001b[38;5;249m \u001b[0m\u001b[38;5;249mS\u001b[0m\u001b[38;5;249mt\u001b[0m\u001b[38;5;249mr\u001b[0m\u001b[38;5;249mi\u001b[0m\u001b[38;5;249mn\u001b[0m\u001b[38;5;249mg\u001b[0m\u001b[38;5;249m:\u001b[0m\u001b[38;5;249m:\u001b[0m\u001b[38;5;249mf\u001b[0m\u001b[38;5;249mr\u001b[0m\u001b[38;5;249mo\u001b[0m\u001b[38;5;249mm\u001b[0m\u001b[38;5;249m(\u001b[0m\u001b[38;5;249m\"\u001b[0m\u001b[38;5;249mr\u001b[0m\u001b[38;5;249m\"\u001b[0m\u001b[38;5;249m)\u001b[0m\u001b[38;5;249m;\u001b[0m",
      " \u001b[38;5;240m  │\u001b[0m \u001b[38;5;54m─\u001b[0m\u001b[38;5;54m─\u001b[0m\u001b[38;5;54m┬\u001b[0m\u001b[38;5;54m─\u001b[0m\u001b[38;5;54m─\u001b[0m  ",
      " \u001b[38;5;240m  │\u001b[0m   \u001b[38;5;54m╰\u001b[0m\u001b[38;5;54m─\u001b[0m\u001b[38;5;54m─\u001b[0m\u001b[38;5;54m─\u001b[0m\u001b[38;5;54m─\u001b[0m not found in this scope",
      "\u001b[38;5;246m───╯\u001b[0m"
     ]
    }
   ],
   "source": [
    "let name: String = user1.username;\n",
    "user1.username = String::from(\"r\");"
   ]
  },
  {
   "cell_type": "code",
   "execution_count": 25,
   "id": "16b201ca-e8d3-4189-9cab-b58b63aee785",
   "metadata": {},
   "outputs": [
    {
     "ename": "Error",
     "evalue": "cannot find value `user1` in this scope",
     "output_type": "error",
     "traceback": [
      "\u001b[31m[E0425] Error:\u001b[0m cannot find value `user1` in this scope",
      "   \u001b[38;5;246m╭\u001b[0m\u001b[38;5;246m─\u001b[0m\u001b[38;5;246m[\u001b[0mcommand_25:1:1\u001b[38;5;246m]\u001b[0m",
      "   \u001b[38;5;246m│\u001b[0m",
      " \u001b[38;5;246m1 │\u001b[0m \u001b[38;5;249mp\u001b[0m\u001b[38;5;249mr\u001b[0m\u001b[38;5;249mi\u001b[0m\u001b[38;5;249mn\u001b[0m\u001b[38;5;249mt\u001b[0m\u001b[38;5;249ml\u001b[0m\u001b[38;5;249mn\u001b[0m\u001b[38;5;249m!\u001b[0m\u001b[38;5;249m(\u001b[0m\u001b[38;5;249m\"\u001b[0m\u001b[38;5;249mu\u001b[0m\u001b[38;5;249ms\u001b[0m\u001b[38;5;249me\u001b[0m\u001b[38;5;249mr\u001b[0m\u001b[38;5;249m:\u001b[0m\u001b[38;5;249m \u001b[0m\u001b[38;5;249m{\u001b[0m\u001b[38;5;249m:\u001b[0m\u001b[38;5;249m#\u001b[0m\u001b[38;5;249m?\u001b[0m\u001b[38;5;249m}\u001b[0m\u001b[38;5;249m\"\u001b[0m\u001b[38;5;249m,\u001b[0m\u001b[38;5;249m \u001b[0m\u001b[38;5;54mu\u001b[0m\u001b[38;5;54ms\u001b[0m\u001b[38;5;54me\u001b[0m\u001b[38;5;54mr\u001b[0m\u001b[38;5;54m1\u001b[0m\u001b[38;5;249m)\u001b[0m\u001b[38;5;249m;\u001b[0m",
      " \u001b[38;5;240m  │\u001b[0m                         \u001b[38;5;54m─\u001b[0m\u001b[38;5;54m─\u001b[0m\u001b[38;5;54m┬\u001b[0m\u001b[38;5;54m─\u001b[0m\u001b[38;5;54m─\u001b[0m  ",
      " \u001b[38;5;240m  │\u001b[0m                           \u001b[38;5;54m╰\u001b[0m\u001b[38;5;54m─\u001b[0m\u001b[38;5;54m─\u001b[0m\u001b[38;5;54m─\u001b[0m\u001b[38;5;54m─\u001b[0m not found in this scope",
      "\u001b[38;5;246m───╯\u001b[0m"
     ]
    }
   ],
   "source": [
    "println!(\"user: {:#?}\", user1);"
   ]
  },
  {
   "cell_type": "code",
   "execution_count": 11,
   "id": "77158fe6-0b31-4f9e-b92a-5e1e3f1e23db",
   "metadata": {},
   "outputs": [],
   "source": [
    "fn build_user(email: String, username: String) -> User {\n",
    "    User {\n",
    "        username,\n",
    "        email,\n",
    "        is_active: true,\n",
    "        sign_in_count: 1,\n",
    "    }\n",
    "}"
   ]
  },
  {
   "cell_type": "code",
   "execution_count": 12,
   "id": "b291fba5-edd9-4947-8637-0fa8bce236d3",
   "metadata": {},
   "outputs": [],
   "source": [
    "let u2: User = build_user(\n",
    "    String::from(\"a@a\"),\n",
    "    String::from(\"sk\")\n",
    ");"
   ]
  },
  {
   "cell_type": "code",
   "execution_count": 13,
   "id": "04e98cff-4e34-4874-9593-e3f84e79ed48",
   "metadata": {},
   "outputs": [],
   "source": [
    "let u3 = User {\n",
    "    email: String::from(\"b@b\"),\n",
    "    username: String::from(\"rk\"),\n",
    "    ..u2\n",
    "};"
   ]
  },
  {
   "cell_type": "markdown",
   "id": "2157f0df-985c-44cd-a030-66c9c3c468f7",
   "metadata": {},
   "source": [
    "### Structs without naming fields - tuple structs\n",
    "- even if the tuple structs have values of same type and amount, and a function expects value from first, you cannot pass it to the second struct because their types are diffrent"
   ]
  },
  {
   "cell_type": "code",
   "execution_count": 14,
   "id": "71381fba-1e7e-4cbc-a102-d6611a366da5",
   "metadata": {},
   "outputs": [],
   "source": [
    "struct Color (i32, i32, i32);\n",
    "struct Point (i32, i32, i32);"
   ]
  }
 ],
 "metadata": {
  "kernelspec": {
   "display_name": "Rust",
   "language": "rust",
   "name": "rust"
  },
  "language_info": {
   "codemirror_mode": "rust",
   "file_extension": ".rs",
   "mimetype": "text/rust",
   "name": "Rust",
   "pygment_lexer": "rust",
   "version": ""
  }
 },
 "nbformat": 4,
 "nbformat_minor": 5
}
