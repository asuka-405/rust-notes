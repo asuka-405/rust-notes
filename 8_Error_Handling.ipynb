{
 "cells": [
  {
   "cell_type": "markdown",
   "id": "15ace501-24e2-492e-bec8-99c751248687",
   "metadata": {},
   "source": [
    "# Error Handling"
   ]
  },
  {
   "cell_type": "markdown",
   "id": "807f11ee-8c5b-4b76-9f6a-a937edff1c64",
   "metadata": {},
   "source": [
    "## The `panic` macro\n",
    "If the program fails in such a way that it's state is unrecoverable or you cannot handle the error gracefully, you can call the panic macro and the program will quit immediately with the provided error statement."
   ]
  },
  {
   "cell_type": "code",
   "execution_count": 2,
   "id": "933d00ba-e3a1-4f11-a1ef-6740566c8e71",
   "metadata": {},
   "outputs": [
    {
     "name": "stderr",
     "output_type": "stream",
     "text": [
      "thread '<unnamed>' panicked at 'explicit panic', src/lib.rs:6:1\n",
      "stack backtrace:\n",
      "note: Some details are omitted, run with `RUST_BACKTRACE=full` for a verbose backtrace.\n"
     ]
    }
   ],
   "source": [
    "panic!();"
   ]
  },
  {
   "cell_type": "code",
   "execution_count": 4,
   "id": "06518199-362d-4722-8cc1-072c42dbe804",
   "metadata": {},
   "outputs": [
    {
     "name": "stderr",
     "output_type": "stream",
     "text": [
      "thread '<unnamed>' panicked at 'crash and burn', src/lib.rs:6:1\n",
      "stack backtrace:\n",
      "note: Some details are omitted, run with `RUST_BACKTRACE=full` for a verbose backtrace.\n"
     ]
    }
   ],
   "source": [
    "panic!(\"crash and burn\");"
   ]
  },
  {
   "cell_type": "markdown",
   "id": "c1bab08d-17d1-4105-bcfe-eb3471df816b",
   "metadata": {},
   "source": [
    "To see backtrace output, either set the env in the main file, or put BACKTRACE=full beofore cargo"
   ]
  },
  {
   "cell_type": "code",
   "execution_count": 8,
   "id": "53bffc9e-0d1e-465e-a12f-85b18e2c9e8e",
   "metadata": {},
   "outputs": [],
   "source": [
    "use std::env;\n",
    "env::set_var(\"RUST_BACKTRACE\", \"full\");"
   ]
  },
  {
   "cell_type": "code",
   "execution_count": 9,
   "id": "7abcc0bb-5dfb-4416-b85d-a62155463b50",
   "metadata": {},
   "outputs": [
    {
     "name": "stderr",
     "output_type": "stream",
     "text": [
      "thread '<unnamed>' panicked at 'number too large', src/lib.rs:7:6\n",
      "stack backtrace:\n",
      "note: Some details are omitted, run with `RUST_BACKTRACE=full` for a verbose backtrace.\n"
     ]
    }
   ],
   "source": [
    "fn d(x: u8){\n",
    "    if x > 3 {\n",
    "     panic!(\"number too large\");\n",
    "    }   \n",
    "}\n",
    "fn c(x: u8){\n",
    "    d(x);\n",
    "}\n",
    "fn b(x: u8){\n",
    "    c(x);\n",
    "}\n",
    "fn a(x: u8){\n",
    "    b(x);\n",
    "}\n",
    "let x: u8 = 4;\n",
    "a(x);"
   ]
  },
  {
   "cell_type": "code",
   "execution_count": null,
   "id": "bebb510c-d684-4ed7-b333-43c6bdec8c23",
   "metadata": {},
   "outputs": [],
   "source": []
  }
 ],
 "metadata": {
  "kernelspec": {
   "display_name": "Rust",
   "language": "rust",
   "name": "rust"
  },
  "language_info": {
   "codemirror_mode": "rust",
   "file_extension": ".rs",
   "mimetype": "text/rust",
   "name": "Rust",
   "pygment_lexer": "rust",
   "version": ""
  }
 },
 "nbformat": 4,
 "nbformat_minor": 5
}
